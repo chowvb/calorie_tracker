{
 "cells": [
  {
   "cell_type": "code",
   "execution_count": 11,
   "id": "023c4a9b",
   "metadata": {},
   "outputs": [],
   "source": [
    "import csv\n",
    "import tkinter as tk\n",
    "\n",
    "from tkinter import messagebox"
   ]
  },
  {
   "cell_type": "code",
   "execution_count": 12,
   "id": "d84d17f6",
   "metadata": {},
   "outputs": [],
   "source": [
    "def add_food():\n",
    "    name = entry_name.get()\n",
    "    calories = int(entry_calories.get())\n",
    "    protein = float(entry_protein.get())\n",
    "    carbs = float(entry_carbs.get())\n",
    "    fat = float(entry_fat.get())\n",
    "    \n",
    "    with open('meal_data.csv', 'a', newline = '') as file:\n",
    "        writer = csv.writer(file)\n",
    "        writer.writerow([name, calories, protein, carbs, fat])\n",
    "        \n",
    "    messagebox.showinfo(\"Success\", \"Food added successfully!\")\n",
    "    clear_entries()"
   ]
  },
  {
   "cell_type": "code",
   "execution_count": 13,
   "id": "5c47d1a6",
   "metadata": {},
   "outputs": [],
   "source": [
    "def view_meal_data():\n",
    "    meal_data = []\n",
    "    with open('meal_data.csv',\"r\") as file:\n",
    "        reader = csv.reader(file)\n",
    "        for row in reader:\n",
    "            meal_data.append(row)\n",
    "    \n",
    "    if meal_data:\n",
    "        messagebox.showinfo(\"Meal Data\", meal_data)\n",
    "    else:\n",
    "        message.showinfo(\"Meal Data\", \"No meal data found.\")"
   ]
  },
  {
   "cell_type": "code",
   "execution_count": 14,
   "id": "62b75318",
   "metadata": {},
   "outputs": [],
   "source": [
    "def clear_entries():\n",
    "    entry_name.delete(0, tk.END)\n",
    "    entry_calories.delete(0, tk.END)\n",
    "    entry_protein.delete(0, tk.END)\n",
    "    entry_carbs.delete(0, tk.END)\n",
    "    entry_fat.delete(0, tk.END)"
   ]
  },
  {
   "cell_type": "code",
   "execution_count": 15,
   "id": "c83b4bad",
   "metadata": {},
   "outputs": [],
   "source": [
    "def quit_application():\n",
    "    window.quit()"
   ]
  },
  {
   "cell_type": "code",
   "execution_count": 16,
   "id": "86b78d07",
   "metadata": {},
   "outputs": [
    {
     "data": {
      "text/plain": [
       "''"
      ]
     },
     "execution_count": 16,
     "metadata": {},
     "output_type": "execute_result"
    }
   ],
   "source": [
    "# Create the main window \n",
    "window = tk.Tk()\n",
    "window.title(\"Meal Prep Application\")"
   ]
  },
  {
   "cell_type": "code",
   "execution_count": 17,
   "id": "d66dd86d",
   "metadata": {},
   "outputs": [],
   "source": [
    "# Create labels\n",
    "label_name = tk.Label(window, text=\"Food Name:\")\n",
    "label_name.grid(row=0, column=0,padx=10,pady=5,sticky=tk.W)\n",
    "\n",
    "label_calories = tk.Label(window, text=\"Calories:\")\n",
    "label_calories.grid(row=1, column=0,padx=10,pady=5,sticky=tk.W)\n",
    "\n",
    "label_protein = tk.Label(window, text=\"Protein (g):\")\n",
    "label_protein.grid(row=2, column=0,padx=10,pady=5,sticky=tk.W)\n",
    "\n",
    "label_carbs = tk.Label(window, text=\"Carbs (g):\")\n",
    "label_carbs.grid(row=3, column=0,padx=10,pady=5,sticky=tk.W)\n",
    "\n",
    "label_fat = tk.Label(window, text=\"Fat (g):\")\n",
    "label_fat.grid(row=4, column=0,padx=10,pady=5,sticky=tk.W)"
   ]
  },
  {
   "cell_type": "code",
   "execution_count": 18,
   "id": "50768e08",
   "metadata": {},
   "outputs": [],
   "source": [
    "# Create entry fields\n",
    "entry_name = tk.Entry(window)\n",
    "entry_name.grid(row=0, column=1, padx=10, pady=5)\n",
    "entry_calories = tk.Entry(window)\n",
    "entry_calories.grid(row=1, column=1, padx=10, pady=5)\n",
    "entry_protein = tk.Entry(window)\n",
    "entry_protein.grid(row=2, column=1, padx=10, pady=5)\n",
    "entry_carbs = tk.Entry(window)\n",
    "entry_carbs.grid(row=3, column=1, padx=10, pady=5)\n",
    "entry_fat = tk.Entry(window)\n",
    "entry_fat.grid(row=4, column=1, padx=10, pady=5)"
   ]
  },
  {
   "cell_type": "code",
   "execution_count": 19,
   "id": "4923a10a",
   "metadata": {},
   "outputs": [],
   "source": [
    "# Create buttons\n",
    "button_add_food = tk.Button(window, text=\"Add Food\", command=add_food)\n",
    "button_add_food.grid(row=5, column=0, padx=10, pady=10, sticky=tk.W)\n",
    "button_view_data = tk.Button(window, text=\"View Meal Data\", command=view_meal_data)\n",
    "button_view_data.grid(row=5, column=1, padx=10, pady=10, sticky=tk.E)\n",
    "button_clear = tk.Button(window, text=\"Clear Entries\", command=clear_entries)\n",
    "button_clear.grid(row=6, column=0, padx=10, pady=10, sticky=tk.W)\n",
    "button_quit = tk.Button(window, text=\"Quit\", command=quit_application)\n",
    "button_quit.grid(row=6, column=1, padx=10, pady=10, sticky=tk.E)"
   ]
  },
  {
   "cell_type": "code",
   "execution_count": 20,
   "id": "a105e2c4",
   "metadata": {},
   "outputs": [],
   "source": [
    "# Run the main loop\n",
    "window.mainloop()"
   ]
  }
 ],
 "metadata": {
  "kernelspec": {
   "display_name": "Python 3 (ipykernel)",
   "language": "python",
   "name": "python3"
  },
  "language_info": {
   "codemirror_mode": {
    "name": "ipython",
    "version": 3
   },
   "file_extension": ".py",
   "mimetype": "text/x-python",
   "name": "python",
   "nbconvert_exporter": "python",
   "pygments_lexer": "ipython3",
   "version": "3.10.9"
  }
 },
 "nbformat": 4,
 "nbformat_minor": 5
}
