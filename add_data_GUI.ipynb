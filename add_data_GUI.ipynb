{
 "cells": [
  {
   "cell_type": "code",
   "execution_count": 646,
   "id": "8a84f4f2",
   "metadata": {},
   "outputs": [
    {
     "ename": "ModuleNotFoundError",
     "evalue": "No module named 'main'",
     "output_type": "error",
     "traceback": [
      "\u001b[1;31m---------------------------------------------------------------------------\u001b[0m",
      "\u001b[1;31mModuleNotFoundError\u001b[0m                       Traceback (most recent call last)",
      "Cell \u001b[1;32mIn[646], line 6\u001b[0m\n\u001b[0;32m      4\u001b[0m \u001b[38;5;28;01mfrom\u001b[39;00m \u001b[38;5;21;01mtkinter\u001b[39;00m \u001b[38;5;28;01mimport\u001b[39;00m ttk\n\u001b[0;32m      5\u001b[0m \u001b[38;5;28;01mimport\u001b[39;00m \u001b[38;5;21;01mpandas\u001b[39;00m \u001b[38;5;28;01mas\u001b[39;00m \u001b[38;5;21;01mpd\u001b[39;00m\n\u001b[1;32m----> 6\u001b[0m \u001b[38;5;28;01mfrom\u001b[39;00m \u001b[38;5;21;01mmain\u001b[39;00m\u001b[38;5;21;01m.\u001b[39;00m\u001b[38;5;21;01mpy\u001b[39;00m \u001b[38;5;28;01mimport\u001b[39;00m calorie_total, protein_total, fat_total, carbs_total\n",
      "\u001b[1;31mModuleNotFoundError\u001b[0m: No module named 'main'"
     ]
    }
   ],
   "source": [
    "import csv\n",
    "import tkinter as tk \n",
    "from tkinter import messagebox\n",
    "from tkinter import ttk\n",
    "import pandas as pd\n"
   ]
  },
  {
   "cell_type": "code",
   "execution_count": 636,
   "id": "6147e18b",
   "metadata": {},
   "outputs": [],
   "source": [
    "def add_food():\n",
    "    name = entry_name.get()\n",
    "    calories = int(entry_calories.get())\n",
    "    protein = float(entry_protein.get())\n",
    "    carbs = float(entry_carbs.get())\n",
    "    fat = float(entry_fat.get())\n",
    "    \n",
    "    with open(\"meal_data.csv\", \"a\",newline=\"\") as file:\n",
    "        writer = csv.writer(file)\n",
    "        writer.writerow([name, calories, protein,carbs,fat])\n",
    "    \n",
    "    messagebox.showinfo(\"Success\", \"Food added successfully\")\n",
    "    clear_entries()\n",
    "    update_data_list()"
   ]
  },
  {
   "cell_type": "code",
   "execution_count": 637,
   "id": "b45dbfe7",
   "metadata": {},
   "outputs": [],
   "source": [
    "def clear_entries():\n",
    "    entry_name.delete(0,tk.END)\n",
    "    entry_calories.delete(0,tk.END)\n",
    "    entry_protein.delete(0,tk.END)\n",
    "    entry_carbs.delete(0,tk.END)\n",
    "    entry_fat.delete(0,tk.END)"
   ]
  },
  {
   "cell_type": "code",
   "execution_count": 638,
   "id": "f9978e03",
   "metadata": {},
   "outputs": [],
   "source": [
    "def quit_application():\n",
    "    window.quit()"
   ]
  },
  {
   "cell_type": "code",
   "execution_count": 639,
   "id": "a2ad69e4",
   "metadata": {},
   "outputs": [
    {
     "data": {
      "text/plain": [
       "\"def update_data_list():\\n    data_list.delete(0, tk.END)\\n    with open('meal_data.csv', 'r') as file:\\n        reader = csv.reader(file)\\n        for row in reader:\\n            data_list.insert(tk.END, row)\""
      ]
     },
     "execution_count": 639,
     "metadata": {},
     "output_type": "execute_result"
    }
   ],
   "source": [
    "\"\"\"def update_data_list():\n",
    "    data_list.delete(0, tk.END)\n",
    "    with open('meal_data.csv', 'r') as file:\n",
    "        reader = csv.reader(file)\n",
    "        for row in reader:\n",
    "            data_list.insert(tk.END, row)\"\"\""
   ]
  },
  {
   "cell_type": "code",
   "execution_count": 640,
   "id": "33d0ae43",
   "metadata": {
    "scrolled": true
   },
   "outputs": [
    {
     "data": {
      "text/plain": [
       "''"
      ]
     },
     "execution_count": 640,
     "metadata": {},
     "output_type": "execute_result"
    }
   ],
   "source": [
    "window = tk.Tk()\n",
    "window.title(\"Meal Prep Application\")\n"
   ]
  },
  {
   "cell_type": "code",
   "execution_count": 641,
   "id": "8f9626d4",
   "metadata": {},
   "outputs": [],
   "source": [
    "# Create Labls for the data entry fields \n",
    "label_name = tk.Label(window, text = \"Food Name:\")\n",
    "label_name.grid(row=0, column =0, padx =10, pady=5, sticky=tk.W)\n",
    "\n",
    "label_calories = tk.Label(window, text = \"Calories:\")\n",
    "label_calories.grid(row=1, column =0, padx =10, pady=5, sticky=tk.W)\n",
    "\n",
    "label_protein = tk.Label(window, text = \"Protein (g):\")\n",
    "label_protein.grid(row=2, column =0, padx =10, pady=5, sticky=tk.W)\n",
    "\n",
    "label_carbs = tk.Label(window, text = \"Carbs (g):\")\n",
    "label_carbs.grid(row=3, column =0, padx =10, pady=5, sticky=tk.W)\n",
    "\n",
    "label_fat = tk.Label(window, text = \"fat (g):\")\n",
    "label_fat.grid(row=4, column =0, padx =10, pady=5, sticky=tk.W)"
   ]
  },
  {
   "cell_type": "code",
   "execution_count": 642,
   "id": "091c3821",
   "metadata": {},
   "outputs": [],
   "source": [
    "# Create entry fields\n",
    "entry_name = tk.Entry(window)\n",
    "entry_name.grid(row=0, column=1, padx=10, pady=5)\n",
    "entry_calories = tk.Entry(window)\n",
    "entry_calories.grid(row=1, column=1, padx=10, pady=5)\n",
    "entry_protein = tk.Entry(window)\n",
    "entry_protein.grid(row=2, column=1, padx=10, pady=5)\n",
    "entry_carbs = tk.Entry(window)\n",
    "entry_carbs.grid(row=3, column=1, padx=10, pady=5)\n",
    "entry_fat = tk.Entry(window)\n",
    "entry_fat.grid(row=4, column=1, padx=10, pady=5)"
   ]
  },
  {
   "cell_type": "code",
   "execution_count": 643,
   "id": "51bb0971",
   "metadata": {},
   "outputs": [],
   "source": [
    "# Create buttons\n",
    "button_add_food = tk.Button(window, text=\"Add Food\", command=add_food)\n",
    "button_add_food.grid(row=5, column=0, padx=5, pady=10, sticky=tk.W)\n",
    "button_clear = tk.Button(window, text=\"Clear Entries\", command=clear_entries)\n",
    "button_clear.grid(row=5, column=1, padx=10, pady=10, sticky=tk.W)\n",
    "button_quit = tk.Button(window, text=\"Quit\", command=quit_application)\n",
    "button_quit.grid(row=5, column=1, padx=10, pady=10, sticky=tk.E)\n",
    "button_refresh = tk.Button(window, text = \"Refresh\")\n",
    "button_refresh.grid(row=5, column = 0, padx=5,pady=20,sticky=tk.E)"
   ]
  },
  {
   "cell_type": "code",
   "execution_count": 644,
   "id": "3bdad2bc",
   "metadata": {},
   "outputs": [],
   "source": [
    "df = pd.read_csv(\"meal_data.csv\")\n",
    "df.reset_index(drop=True)\n",
    "text = tk.Text(window)\n",
    "text.insert(tk.END, str(df))\n",
    "text.grid(row = 0, rowspan = 5, column = 3)"
   ]
  },
  {
   "cell_type": "code",
   "execution_count": 645,
   "id": "43d75c5f",
   "metadata": {},
   "outputs": [],
   "source": [
    "\n",
    "# Run the main loop\n",
    "window.mainloop()"
   ]
  }
 ],
 "metadata": {
  "kernelspec": {
   "display_name": "Python 3 (ipykernel)",
   "language": "python",
   "name": "python3"
  },
  "language_info": {
   "codemirror_mode": {
    "name": "ipython",
    "version": 3
   },
   "file_extension": ".py",
   "mimetype": "text/x-python",
   "name": "python",
   "nbconvert_exporter": "python",
   "pygments_lexer": "ipython3",
   "version": "3.10.11"
  }
 },
 "nbformat": 4,
 "nbformat_minor": 5
}
