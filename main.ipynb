{
 "cells": [
  {
   "cell_type": "code",
   "execution_count": 11,
   "id": "00b9a213",
   "metadata": {},
   "outputs": [],
   "source": [
    "#Define calorie and other nutritional goals\n",
    "\n",
    "calorie_total = 2000\n",
    "protein_total = 140 \n",
    "fat_total = 95\n",
    "carbs_total = 330\n",
    "fibre_total = 30\n",
    "salt_total = 6\n",
    "\n"
   ]
  },
  {
   "cell_type": "code",
   "execution_count": 12,
   "id": "1edd6ab5",
   "metadata": {},
   "outputs": [],
   "source": [
    "class Food: \n",
    "    name:str\n",
    "    calorie:int\n",
    "    protein:int\n",
    "    fat:int\n",
    "    carbs:int\n",
    "    fibre:int\n",
    "    salt:int"
   ]
  },
  {
   "cell_type": "code",
   "execution_count": 14,
   "id": "e3b1ce08",
   "metadata": {},
   "outputs": [
    {
     "name": "stdout",
     "output_type": "stream",
     "text": [
      "\"\n",
      "    (1): Add Food\")\n",
      "    (2): Display Nutrition Data)\n",
      "    (q): Exit)\n",
      "Chose an Option:1\n",
      "Add food nameC\n",
      "Calories:1\n",
      "Protein:2\n",
      "Fats:1\n",
      "Carbohydrates:1\n",
      "Fibre:1\n",
      "Salt:1\n",
      "\"\n",
      "    (1): Add Food\")\n",
      "    (2): Display Nutrition Data)\n",
      "    (q): Exit)\n",
      "Chose an Option:q\n",
      "<class '__main__.Food'>\n"
     ]
    }
   ],
   "source": [
    "done = False\n",
    "while not done:\n",
    "    print(\"\"\"\"\n",
    "    (1): Add Food\")\n",
    "    (2): Display Nutrition Data)\n",
    "    (q): Exit)\"\"\")\n",
    "    option = input(\"Chose an Option:\")\n",
    "    if option == \"1\":\n",
    "        name = input(\"Add food name\")\n",
    "        calorie = int(input(\"Calories:\"))\n",
    "        protein = int(input(\"Protein:\"))\n",
    "        fat = int(input(\"Fats:\"))\n",
    "        carbs = int(input(\"Carbohydrates:\"))\n",
    "        fibre = int(input(\"Fibre:\"))\n",
    "        salt = int(input(\"Salt:\"))\n",
    "        \n",
    "        \n",
    "    elif option == \"q\":\n",
    "        done = True\n",
    "        print(Food)"
   ]
  },
  {
   "cell_type": "code",
   "execution_count": null,
   "id": "7ebbb96f",
   "metadata": {},
   "outputs": [],
   "source": []
  }
 ],
 "metadata": {
  "kernelspec": {
   "display_name": "Python [conda env:cameratraps-detector] *",
   "language": "python",
   "name": "conda-env-cameratraps-detector-py"
  },
  "language_info": {
   "codemirror_mode": {
    "name": "ipython",
    "version": 3
   },
   "file_extension": ".py",
   "mimetype": "text/x-python",
   "name": "python",
   "nbconvert_exporter": "python",
   "pygments_lexer": "ipython3",
   "version": "3.8.15"
  }
 },
 "nbformat": 4,
 "nbformat_minor": 5
}
