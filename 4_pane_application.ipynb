{
 "cells": [
  {
   "cell_type": "code",
   "execution_count": 103,
   "id": "b0298874",
   "metadata": {
    "scrolled": true
   },
   "outputs": [],
   "source": [
    "import csv\n",
    "import tkinter as tk\n",
    "from tkinter import messagebox\n",
    "import pandas as pd\n",
    "import os, pathlib"
   ]
  },
  {
   "cell_type": "code",
   "execution_count": 104,
   "id": "9c6ae0b3",
   "metadata": {},
   "outputs": [],
   "source": [
    "calorie_total = 2000\n",
    "protein_total = 140 \n",
    "fat_total = 95\n",
    "carbs_total = 330"
   ]
  },
  {
   "cell_type": "markdown",
   "id": "1cc52545",
   "metadata": {},
   "source": [
    "Configure the App window and the dimensions of the 4 panes initially "
   ]
  },
  {
   "cell_type": "code",
   "execution_count": 105,
   "id": "44ab29c0",
   "metadata": {},
   "outputs": [],
   "source": [
    "def resize_panes(event):\n",
    "    paned_window.update\n",
    "\n",
    "def refresh_data():\n",
    "    df = pd.read_csv(\"meal_data.csv\")\n",
    "    df.reset_index(drop=True, inplace=True)\n",
    "    text.delete(\"1.0\", tk.END)\n",
    "    text.insert(tk.END, str(df))\n",
    "    \n",
    "def quit_application():\n",
    "    window.quit()\n",
    "\n",
    "\n",
    "def clear_entries():\n",
    "    entry_name.delete(0,tk.END)\n",
    "    entry_calories.delete(0,tk.END)\n",
    "    entry_protein.delete(0,tk.END)\n",
    "    entry_carbs.delete(0,tk.END)\n",
    "    entry_fat.delete(0,tk.END)\n",
    "    \n",
    "    \n",
    "def add_food():\n",
    "    name = entry_name.get()\n",
    "    calories = int(entry_calories.get())\n",
    "    protein = float(entry_protein.get())\n",
    "    carbs = float(entry_carbs.get())\n",
    "    fat = float(entry_fat.get())\n",
    "    \n",
    "    with open(\"meal_data.csv\", \"a\",newline=\"\") as file:\n",
    "        writer = csv.writer(file)\n",
    "        writer.writerow([name, calories, protein,carbs,fat])\n",
    "    \n",
    "    messagebox.showinfo(\"Success\", \"Food added successfully\")\n",
    "    clear_entries()\n",
    "    refresh_data()\n",
    "\n",
    "def open_file():\n",
    "    file_dir = pathlib.Path(\"meal_data.csv\")\n",
    "    os.startfile(file_dir)\n",
    "\n",
    "def refresh_data():\n",
    "    df = pd.read_csv(\"meal_data.csv\")\n",
    "    df.reset_index(drop=True, inplace=True)\n",
    "    text.delete(\"1.0\", tk.END)\n",
    "    text.insert(tk.END, str(df))"
   ]
  },
  {
   "cell_type": "code",
   "execution_count": 106,
   "id": "43e69942",
   "metadata": {},
   "outputs": [
    {
     "data": {
      "text/plain": [
       "'paned_window = tk.PanedWindow(window, orient = tk.HORIZONTAL,\\n                              sashrelief = tk.SUNKEN, sashwidth = 5)\\npaned_window.pack(fill=tk.BOTH, expand = True)\\n\\np1 = tk.Frame(paned_window)\\np2 = tk.Frame(paned_window)\\np3 = tk.Frame(paned_window)\\np4 = tk.Frame(paned_window)\\n\\npaned_window.add(p1, minsize= 200)\\npaned_window.add(p2, minsize = 200)\\npaned_window.add(p3, minsize = 200)\\npaned_window.add(p4, minsize = 200)\\n\\npaned_window.paneconfig(p1, stretch=\"never\")\\npaned_window.paneconfig(p2, stretch=\"never\")\\npaned_window.paneconfig(p3, stretch=\"never\")\\npaned_window.paneconfig(p4, stretch=\"never\")\\n# Configure the Paned Window sash to allow for resizing \\npaned_window.sashpad = 3\\npaned_window.bind(\"<Configure>\", resize_panes)'"
      ]
     },
     "execution_count": 106,
     "metadata": {},
     "output_type": "execute_result"
    }
   ],
   "source": [
    "window = tk.Tk()\n",
    "window.title(\"Personal Project\")"
   ]
  },
  {
   "cell_type": "code",
   "execution_count": 107,
   "id": "a1e4c043",
   "metadata": {},
   "outputs": [],
   "source": [
    "p1 = tk.Frame(window, width = 100, height = 200)\n",
    "p2 = tk.Frame(window, width = 200, height = 200)\n",
    "p3 = tk.Frame(window, width = 100, height = 200)\n",
    "p4 = tk.Frame(window, width = 200, height = 200)\n",
    "\n",
    "p1.grid(row = 0, column = 0)\n",
    "p2.grid(row = 0, column = 1)\n",
    "p3.grid(row = 1, column = 0)\n",
    "p4.grid(row = 1, column = 1)"
   ]
  },
  {
   "cell_type": "markdown",
   "id": "6ea71af8",
   "metadata": {},
   "source": [
    "Pane 1 (Top Left): Meal_Database_Adder"
   ]
  },
  {
   "cell_type": "code",
   "execution_count": 108,
   "id": "f7bceefa",
   "metadata": {},
   "outputs": [],
   "source": [
    "label_name = tk.Label(p1, text = \"Food Name:\")\n",
    "label_name.grid(row=0, column =0, padx =10, pady=5, sticky=tk.W)\n",
    "\n",
    "label_calories = tk.Label(p1, text = \"Calories:\")\n",
    "label_calories.grid(row=1, column =0, padx =10, pady=5, sticky=tk.W)\n",
    "\n",
    "label_protein = tk.Label(p1, text = \"Protein (g):\")\n",
    "label_protein.grid(row=2, column =0, padx =10, pady=5, sticky=tk.W)\n",
    "\n",
    "label_carbs = tk.Label(p1, text = \"Carbs (g):\")\n",
    "label_carbs.grid(row=3, column =0, padx =10, pady=5, sticky=tk.W)\n",
    "\n",
    "label_fat = tk.Label(p1, text = \"fat (g):\")\n",
    "label_fat.grid(row=4, column =0, padx =10, pady=5, sticky=tk.W)\n",
    "\n",
    "# Create entry fields\n",
    "entry_name = tk.Entry(p1)\n",
    "entry_name.grid(row=0, column=1, padx=10, pady=5)\n",
    "entry_calories = tk.Entry(p1)\n",
    "entry_calories.grid(row=1, column=1, padx=10, pady=5)\n",
    "entry_protein = tk.Entry(p1)\n",
    "entry_protein.grid(row=2, column=1, padx=10, pady=5)\n",
    "entry_carbs = tk.Entry(p1)\n",
    "entry_carbs.grid(row=3, column=1, padx=10, pady=5)\n",
    "entry_fat = tk.Entry(p1)\n",
    "entry_fat.grid(row=4, column=1, padx=10, pady=5)\n",
    "\n",
    "# Create entry fields\n",
    "entry_name = tk.Entry(p1)\n",
    "entry_name.grid(row=0, column=1, padx=10, pady=5)\n",
    "entry_calories = tk.Entry(p1)\n",
    "entry_calories.grid(row=1, column=1, padx=10, pady=5)\n",
    "entry_protein = tk.Entry(p1)\n",
    "entry_protein.grid(row=2, column=1, padx=10, pady=5)\n",
    "entry_carbs = tk.Entry(p1)\n",
    "entry_carbs.grid(row=3, column=1, padx=10, pady=5)\n",
    "entry_fat = tk.Entry(p1)\n",
    "entry_fat.grid(row=4, column=1, padx=10, pady=5)"
   ]
  },
  {
   "cell_type": "markdown",
   "id": "8ce6119a",
   "metadata": {},
   "source": [
    "Bottom Left Pane"
   ]
  },
  {
   "cell_type": "code",
   "execution_count": 110,
   "id": "b4d98fa1",
   "metadata": {},
   "outputs": [],
   "source": [
    "data_vis = tk.PanedWindow(p3, orient = tk.VERTICAL,\n",
    "                         sashrelief = tk.SUNKEN, sashwidth = 5)\n",
    "data_vis.pack(fill=tk.BOTH, expand = True)\n",
    "\n",
    "top = tk.Frame(data_vis)\n",
    "data_vis.add(top)\n",
    "\n",
    "bottom = tk.Frame(data_vis)\n",
    "data_vis.add(bottom)\n",
    "\n",
    "# Top half of the panel displays the dataframe that stores all the food data\n",
    "df = pd.read_csv(\"meal_data.csv\")\n",
    "df.reset_index(drop=True)\n",
    "text = tk.Text(top, width = 50)\n",
    "text.insert(tk.END, str(df))\n",
    "text.pack()\n",
    "refresh_data()\n",
    "\n",
    "# Bottom half of the panel shows the target calories as well as a button that opens the .csv file to allow for manual editing.\n",
    "open_btn = tk.Button(bottom, text =\"Open Dataframe\", command = open_file)\n",
    "open_btn.pack()\n",
    "label2 = tk.Label(bottom, \n",
    "                  text = f\"Target Calories:{calorie_total}kcal, Protein:{protein_total}g, Carbs:{carbs_total}g, Fat:{fat_total}g\")\n",
    "label2.pack()\n"
   ]
  },
  {
   "cell_type": "markdown",
   "id": "63afd288",
   "metadata": {},
   "source": [
    "Top Right Pane"
   ]
  },
  {
   "cell_type": "code",
   "execution_count": 111,
   "id": "dea3dd79",
   "metadata": {},
   "outputs": [],
   "source": [
    "# Create buttons\n",
    "button_add_food = tk.Button(p2, text=\"Add Food\", command=add_food)\n",
    "button_add_food.grid(row=0, column=0, padx=20, pady=10, sticky=tk.EW, ipadx = 50)\n",
    "\n",
    "button_clear = tk.Button(p2, text=\"Clear Entries\", command=clear_entries)\n",
    "button_clear.grid(row=1, column=0, padx=20, pady=10, sticky=tk.EW, ipadx = 50)\n",
    "\n",
    "button_refresh = tk.Button(p2, text = \"Refresh\", command = refresh_data)\n",
    "button_refresh.grid(row=2, column = 0, padx=20,pady=10,sticky=tk.EW, ipadx = 50)\n",
    "\n",
    "button_quit = tk.Button(p2, text=\"Quit\", command=quit_application)\n",
    "button_quit.grid(row=3, column=0, padx=20, pady=10, sticky=tk.EW, ipadx = 50)\n",
    "\n"
   ]
  },
  {
   "cell_type": "code",
   "execution_count": null,
   "id": "0d468009",
   "metadata": {},
   "outputs": [],
   "source": [
    "window.mainloop()"
   ]
  }
 ],
 "metadata": {
  "kernelspec": {
   "display_name": "Python 3 (ipykernel)",
   "language": "python",
   "name": "python3"
  },
  "language_info": {
   "codemirror_mode": {
    "name": "ipython",
    "version": 3
   },
   "file_extension": ".py",
   "mimetype": "text/x-python",
   "name": "python",
   "nbconvert_exporter": "python",
   "pygments_lexer": "ipython3",
   "version": "3.10.11"
  }
 },
 "nbformat": 4,
 "nbformat_minor": 5
}
