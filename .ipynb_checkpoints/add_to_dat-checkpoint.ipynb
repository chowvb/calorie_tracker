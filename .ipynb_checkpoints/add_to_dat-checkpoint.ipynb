{
 "cells": [
  {
   "cell_type": "markdown",
   "id": "06d6a616",
   "metadata": {},
   "source": [
    "This script is to be used to add new recipies into a food database where food records can be recalled. "
   ]
  },
  {
   "cell_type": "code",
   "execution_count": 20,
   "id": "2ed46aa2",
   "metadata": {},
   "outputs": [],
   "source": [
    "import pandas as pd\n",
    "import numpy as np\n",
    "import os,shutil,pathlib"
   ]
  },
  {
   "cell_type": "markdown",
   "id": "07c24397",
   "metadata": {},
   "source": [
    "Check if the food database is already present in the file directory. If file is not found, a new csv database file is made and is saved with the file name \"food_dat.csv\" into the working directory\n",
    "\n",
    "A pre-existing database can replace the existing database as long as it is called \"food_dat.csv\" and has the Dataframe structure:\n",
    "[\n",
    "Name,Calories,Fat,Carbs,Protein,Salt]"
   ]
  },
  {
   "cell_type": "code",
   "execution_count": 22,
   "id": "63b7a467",
   "metadata": {},
   "outputs": [
    {
     "name": "stdout",
     "output_type": "stream",
     "text": [
      "Database Located! Loading Existing Database\n"
     ]
    }
   ],
   "source": [
    "food_dat_path = pathlib.Path(\"food_dat.csv\")\n",
    "if not os.path.exists(food_dat_path):\n",
    "    print(\"Food Database is missing, creating an empty csv file\")\n",
    "    food_dat = {\"Name\":[],\"Calories\":[],\"Fat\":[],\"Carbs\":[],\"Protein\":[],\"Salt\":[]}\n",
    "    food_dat_df = pd.DataFrame(data=food_dat).set_index([\"Name\"]).to_csv(\"food_dat.csv\")\n",
    "    print(food_dat_df)\n",
    "else:\n",
    "    print(\"Database Located! Loading Existing Database\")"
   ]
  }
 ],
 "metadata": {
  "kernelspec": {
   "display_name": "Python [conda env:cameratraps-detector] *",
   "language": "python",
   "name": "conda-env-cameratraps-detector-py"
  },
  "language_info": {
   "codemirror_mode": {
    "name": "ipython",
    "version": 3
   },
   "file_extension": ".py",
   "mimetype": "text/x-python",
   "name": "python",
   "nbconvert_exporter": "python",
   "pygments_lexer": "ipython3",
   "version": "3.8.15"
  }
 },
 "nbformat": 4,
 "nbformat_minor": 5
}
