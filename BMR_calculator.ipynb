{
 "cells": [
  {
   "cell_type": "markdown",
   "id": "9bde2ff5",
   "metadata": {},
   "source": [
    "This script uses the users Weight, Height and Age to calculate the users Base Metabolic Rate (BMR). \n",
    "\n",
    "Dependent on the users activity levels the total daily energy expenditure (TDEE) can be calculated to give a rough guide on how many calories an individual needs to maintain their current body weight. \n",
    "\n",
    "The user can also define any fitness goals (Gain weight/Lose weight) which can be tailored to create a Calorie Target (CT). "
   ]
  },
  {
   "cell_type": "markdown",
   "id": "4307c15e",
   "metadata": {},
   "source": [
    "Define Users information:"
   ]
  },
  {
   "cell_type": "code",
   "execution_count": 1,
   "id": "e94c2f6b",
   "metadata": {
    "scrolled": true
   },
   "outputs": [],
   "source": [
    "user_weight = 68 # Weight in kilograms (kg)\n",
    "user_height = 162 # Height in centimetres (cm)\n",
    "user_age = 24 # Age in exact years\n",
    "\n",
    "# to implement automatic conversion in the future?? "
   ]
  },
  {
   "cell_type": "markdown",
   "id": "474da775",
   "metadata": {},
   "source": [
    "Base Metabolic Rate Formula (BMR)\n",
    "\n",
    "BMR Formula: \n",
    "\n",
    "BMR = 10W + 6.25H - 5A + 5\n",
    "\n",
    "W = Weight\n",
    "H = Height\n",
    "A = Age"
   ]
  },
  {
   "cell_type": "code",
   "execution_count": 9,
   "id": "b002542b",
   "metadata": {},
   "outputs": [
    {
     "name": "stdout",
     "output_type": "stream",
     "text": [
      "1577.5\n"
     ]
    }
   ],
   "source": [
    "BMR = (10*user_weight) + (6.25*user_height) - (5*user_age) + 5\n",
    "print(BMR)"
   ]
  },
  {
   "cell_type": "markdown",
   "id": "091775b4",
   "metadata": {},
   "source": [
    "Total Daily Energy Expenditure (TDEE)\n",
    "The TDEE is calculated by multiplying the BMR by Physical Activity Level (PAL)\n",
    "PAL is a multiplier dependent on the users activity level: \n",
    "- Sedentary = 1.55\n",
    "- Moderately Active = 1.85\n",
    "- Vigorously Active = 2.2\n",
    "- Extremely Active = 2.4\n",
    "\n",
    "Formula:\n",
    "TDEE = BMR X PAL"
   ]
  },
  {
   "cell_type": "code",
   "execution_count": 10,
   "id": "7f7e4bb1",
   "metadata": {
    "scrolled": true
   },
   "outputs": [
    {
     "name": "stdout",
     "output_type": "stream",
     "text": [
      "2445.125\n"
     ]
    }
   ],
   "source": [
    "PAL = 1.55 # For testing purposes the base multiplier is to be used\n",
    "\n",
    "TDEE = BMR*PAL\n",
    "print(TDEE)"
   ]
  },
  {
   "cell_type": "markdown",
   "id": "b8e9785d",
   "metadata": {},
   "source": [
    "Calorie Target \n",
    "To create a calorie target dependent on the users fitness desires. \n",
    "A Goals Multiplier (GM) is applied to the TDEE to return a Calorie Target (CT)\n",
    "\n",
    "GM list: \n",
    "- Gain Weight = 1.2\n",
    "- Slight Weight Gain = 1.1\n",
    "- Maintain Weight = 1.0\n",
    "- Slight Weight Loss = 0.9\n",
    "- Weight Loss = 0.8"
   ]
  },
  {
   "cell_type": "code",
   "execution_count": 12,
   "id": "6180829e",
   "metadata": {},
   "outputs": [
    {
     "name": "stdout",
     "output_type": "stream",
     "text": [
      "1956.1000000000001\n"
     ]
    }
   ],
   "source": [
    "GM = 0.8 # A default value of 1.0 is used for weight management\n",
    "\n",
    "CT = TDEE*GM\n",
    "print(CT)"
   ]
  }
 ],
 "metadata": {
  "kernelspec": {
   "display_name": "Python 3 (ipykernel)",
   "language": "python",
   "name": "python3"
  },
  "language_info": {
   "codemirror_mode": {
    "name": "ipython",
    "version": 3
   },
   "file_extension": ".py",
   "mimetype": "text/x-python",
   "name": "python",
   "nbconvert_exporter": "python",
   "pygments_lexer": "ipython3",
   "version": "3.10.11"
  }
 },
 "nbformat": 4,
 "nbformat_minor": 5
}
